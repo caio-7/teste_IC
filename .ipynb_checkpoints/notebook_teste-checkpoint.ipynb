{
 "cells": [
  {
   "cell_type": "markdown",
   "id": "04bd92a9-661e-49d2-8cda-1808edfd6a7c",
   "metadata": {},
   "source": [
    "# Teste de Nivelamento Intuitive Care"
   ]
  },
  {
   "cell_type": "markdown",
   "id": "6bbb13ee-5657-4bb1-b63f-5f3d26f1a28f",
   "metadata": {},
   "source": [
    "## Teste Web Scraping"
   ]
  },
  {
   "cell_type": "code",
   "execution_count": null,
   "id": "5f6039b4-8558-4977-bba8-03c1fe3872d8",
   "metadata": {},
   "outputs": [],
   "source": [
    "## Este programa executa o download dos arquivos .pdf solicitados e os organiza dentro de uma pasta compactada no formato .zip\n",
    "## Caio Sousa Ferreira\n",
    "\n",
    "import requests\n",
    "import zipfile\n",
    "import os\n",
    "\n",
    "print('Download dos Arquivos\\n')\n",
    "print('Iniciando\\n')\n",
    "\n",
    "\n",
    "# Links para os arquivos necessários\n",
    "url_Arquivo1 = 'https://www.gov.br/ans/pt-br/acesso-a-informacao/participacao-da-sociedade/atualizacao-do-rol-de-procedimentos/Anexo_I_Rol_2021RN_465.2021_RN627L.2024.pdf'\n",
    "url_Arquivo2 = 'https://www.gov.br/ans/pt-br/acesso-a-informacao/participacao-da-sociedade/atualizacao-do-rol-de-procedimentos/Anexo_II_DUT_2021_RN_465.2021_RN628.2025_RN629.2025.pdf'\n",
    "\n",
    "# Solicitação HTTP dos arquivos\n",
    "conteudo_Arquivo1 = requests.get(url_Arquivo1)\n",
    "#nome_Arquivo1 = 'AnexoI.pdf'\n",
    "\n",
    "conteudo_Arquivo2 = requests.get(url_Arquivo2)\n",
    "#nome_Arquivo2 = 'AnexoII.pdf'\n",
    "\n",
    "# Baixar e gerar os arquivos na pasta (Anexo I)\n",
    "if conteudo_Arquivo1.status_code == 200:\n",
    "    with open('Anexo I.pdf', 'wb') as file:\n",
    "        file.write(conteudo_Arquivo1.content)\n",
    "    print('Arquivo 1 baixado com sucesso')\n",
    "else:\n",
    "    print('Não foi possível baixar o arquivo')\n",
    "\n",
    "    \n",
    "# Baixar e gerar os arquivos na pasta (Anexo II)\n",
    "if conteudo_Arquivo2.status_code == 200:\n",
    "    with open('Anexo II.pdf', 'wb') as file:\n",
    "        file.write(conteudo_Arquivo2.content)\n",
    "    print('Arquivo 2 baixado com sucesso')\n",
    "else:\n",
    "    print('Não foi possível baixar o arquivo')\n",
    "\n",
    "# Criar pasta .zip para compactar os arquivos\n",
    "with zipfile.ZipFile('arquivos_anexos.zip', 'w') as myzip:\n",
    "    myzip.write('Anexo I.pdf')\n",
    "    myzip.write('Anexo II.pdf')\n",
    "\n",
    "#os.remove('Anexo I.pdf')\n",
    "os.remove('Anexo II.pdf')\n",
    "\n",
    "input('\\nAperte qualquer tecla para sair')\n",
    "\n",
    "\n",
    "\n"
   ]
  },
  {
   "cell_type": "markdown",
   "id": "08f66e55-3f8a-464d-9054-3ddd4a779bb5",
   "metadata": {},
   "source": [
    "## Teste transformação de dados"
   ]
  },
  {
   "cell_type": "code",
   "execution_count": null,
   "id": "843f88e4-50ba-44a6-9ed6-870a2ca06e5a",
   "metadata": {},
   "outputs": [],
   "source": [
    "## Este código faz a leitura do arquivo, altera as colunas solicitadas e gera o arquivo final .csv dentro de uma pasta compactada no formato\n",
    "## .zip com o nome solicitado\n",
    "\n",
    "import tabula\n",
    "import pandas as pd\n",
    "import os\n",
    "import zipfile\n",
    "\n",
    "# Carregamento de todas as tabelas a partir do .pdf\n",
    "lista_tabelas = tabula.read_pdf('Anexo I.pdf', pages=\"3-181\")\n",
    "\n",
    "# Alteração das colunas em todas as tabelas\n",
    "for df in lista_tabelas:\n",
    "\n",
    "    df.rename(columns = {'OD':'Seg. Odontológica'}, inplace=True)\n",
    "    df.rename(columns = {'AMB':'Seg. Ambulatorial'}, inplace=True)\n",
    "\n",
    "# Juntar e criar o arquivo .csv com todas as tabelas\n",
    "for df in lista_tabelas:\n",
    "    \n",
    "    df.to_csv('Teste_{Caio_Ferreira}.csv', index=False, encoding=\"utf-8-sig\", sep=';', mode='a')\n",
    "\n",
    "# Compactar o arquivo em uma pasta .zip e remover a cópia do arquivo do diretório\n",
    "with zipfile.ZipFile('Teste_{Caio_Ferreira}.zip', 'w') as myzip:\n",
    "    myzip.write('Teste_{Caio_Ferreira}.csv')\n",
    "os.remove('Teste_{Caio_Ferreira}.csv')"
   ]
  }
 ],
 "metadata": {
  "kernelspec": {
   "display_name": "Python 3 (ipykernel)",
   "language": "python",
   "name": "python3"
  },
  "language_info": {
   "codemirror_mode": {
    "name": "ipython",
    "version": 3
   },
   "file_extension": ".py",
   "mimetype": "text/x-python",
   "name": "python",
   "nbconvert_exporter": "python",
   "pygments_lexer": "ipython3",
   "version": "3.12.7"
  }
 },
 "nbformat": 4,
 "nbformat_minor": 5
}
