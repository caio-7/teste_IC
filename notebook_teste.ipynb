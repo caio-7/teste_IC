{
 "cells": [
  {
   "cell_type": "markdown",
   "id": "04bd92a9-661e-49d2-8cda-1808edfd6a7c",
   "metadata": {},
   "source": [
    "Teste Nivelamento"
   ]
  },
  {
   "cell_type": "code",
   "execution_count": null,
   "id": "5f6039b4-8558-4977-bba8-03c1fe3872d8",
   "metadata": {},
   "outputs": [],
   "source": []
  }
 ],
 "metadata": {
  "kernelspec": {
   "display_name": "Python 3 (ipykernel)",
   "language": "python",
   "name": "python3"
  },
  "language_info": {
   "codemirror_mode": {
    "name": "ipython",
    "version": 3
   },
   "file_extension": ".py",
   "mimetype": "text/x-python",
   "name": "python",
   "nbconvert_exporter": "python",
   "pygments_lexer": "ipython3",
   "version": "3.12.7"
  }
 },
 "nbformat": 4,
 "nbformat_minor": 5
}
